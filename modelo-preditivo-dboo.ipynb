{
 "cells": [
  {
   "cell_type": "code",
   "execution_count": null,
   "id": "6b091194",
   "metadata": {},
   "outputs": [
    {
     "data": {
      "application/vnd.plotly.v1+json": {
       "config": {
        "plotlyServerURL": "https://plot.ly"
       },
       "data": [
        {
         "hovertemplate": "Parâmetro=%{x}<br>Coeficiente de Correlação=%{marker.color}<br>text=%{text}<extra></extra>",
         "legendgroup": "",
         "marker": {
          "color": {
           "bdata": "YbMdZ6Tqsz/6x09p2mXiP0/SavE4fuE/Ky8go1B+5z/Hyxq+PUutv3hZL7gOsdU//apbJDqv6D8uJXGuJy3oP4mIs3I4b+o/Zwm23NRnzL+44bBjZn/LP7mNthUIq9O/FbYgnNut5j8YDgREcrflPyhl+zTbWc+/ugF8TkA8y79gTMKSnlBwPw==",
           "dtype": "f8"
          },
          "coloraxis": "coloraxis",
          "pattern": {
           "shape": ""
          }
         },
         "name": "",
         "orientation": "v",
         "showlegend": false,
         "text": [
          "0.08",
          "0.57",
          "0.55",
          "0.73",
          "-0.06",
          "0.34",
          "0.77",
          "0.76",
          "0.83",
          "-0.22",
          "0.21",
          "-0.31",
          "0.71",
          "0.68",
          "-0.24",
          "-0.21",
          "0.00"
         ],
         "textposition": "outside",
         "type": "bar",
         "x": [
          "Chumbo Total",
          "Chuvas nas últimas 24h",
          "Cobre Total",
          "Condutividade",
          "Cádmio Total",
          "Dureza",
          "Fósforo Total",
          "Nitrogênio Amoniacal",
          "Nitrogênio Total",
          "Nitrogênio-Nitrato",
          "Nitrogênio-Nitrito",
          "Oxigênio Dissolvido",
          "Sólido Dissolvido Total",
          "Sólido Total",
          "Temperatura da Água",
          "Turbidez",
          "pH"
         ],
         "xaxis": "x",
         "y": {
          "bdata": "YbMdZ6Tqsz/6x09p2mXiP0/SavE4fuE/Ky8go1B+5z/Hyxq+PUutv3hZL7gOsdU//apbJDqv6D8uJXGuJy3oP4mIs3I4b+o/Zwm23NRnzL+44bBjZn/LP7mNthUIq9O/FbYgnNut5j8YDgREcrflPyhl+zTbWc+/ugF8TkA8y79gTMKSnlBwPw==",
          "dtype": "f8"
         },
         "yaxis": "y"
        }
       ],
       "layout": {
        "barmode": "relative",
        "coloraxis": {
         "colorbar": {
          "title": {
           "text": "Coeficiente de Correlação"
          }
         },
         "colorscale": [
          [
           0,
           "#440154"
          ],
          [
           0.1111111111111111,
           "#482878"
          ],
          [
           0.2222222222222222,
           "#3e4989"
          ],
          [
           0.3333333333333333,
           "#31688e"
          ],
          [
           0.4444444444444444,
           "#26828e"
          ],
          [
           0.5555555555555556,
           "#1f9e89"
          ],
          [
           0.6666666666666666,
           "#35b779"
          ],
          [
           0.7777777777777778,
           "#6ece58"
          ],
          [
           0.8888888888888888,
           "#b5de2b"
          ],
          [
           1,
           "#fde725"
          ]
         ]
        },
        "legend": {
         "tracegroupgap": 0
        },
        "template": {
         "data": {
          "bar": [
           {
            "error_x": {
             "color": "#2a3f5f"
            },
            "error_y": {
             "color": "#2a3f5f"
            },
            "marker": {
             "line": {
              "color": "#E5ECF6",
              "width": 0.5
             },
             "pattern": {
              "fillmode": "overlay",
              "size": 10,
              "solidity": 0.2
             }
            },
            "type": "bar"
           }
          ],
          "barpolar": [
           {
            "marker": {
             "line": {
              "color": "#E5ECF6",
              "width": 0.5
             },
             "pattern": {
              "fillmode": "overlay",
              "size": 10,
              "solidity": 0.2
             }
            },
            "type": "barpolar"
           }
          ],
          "carpet": [
           {
            "aaxis": {
             "endlinecolor": "#2a3f5f",
             "gridcolor": "white",
             "linecolor": "white",
             "minorgridcolor": "white",
             "startlinecolor": "#2a3f5f"
            },
            "baxis": {
             "endlinecolor": "#2a3f5f",
             "gridcolor": "white",
             "linecolor": "white",
             "minorgridcolor": "white",
             "startlinecolor": "#2a3f5f"
            },
            "type": "carpet"
           }
          ],
          "choropleth": [
           {
            "colorbar": {
             "outlinewidth": 0,
             "ticks": ""
            },
            "type": "choropleth"
           }
          ],
          "contour": [
           {
            "colorbar": {
             "outlinewidth": 0,
             "ticks": ""
            },
            "colorscale": [
             [
              0,
              "#0d0887"
             ],
             [
              0.1111111111111111,
              "#46039f"
             ],
             [
              0.2222222222222222,
              "#7201a8"
             ],
             [
              0.3333333333333333,
              "#9c179e"
             ],
             [
              0.4444444444444444,
              "#bd3786"
             ],
             [
              0.5555555555555556,
              "#d8576b"
             ],
             [
              0.6666666666666666,
              "#ed7953"
             ],
             [
              0.7777777777777778,
              "#fb9f3a"
             ],
             [
              0.8888888888888888,
              "#fdca26"
             ],
             [
              1,
              "#f0f921"
             ]
            ],
            "type": "contour"
           }
          ],
          "contourcarpet": [
           {
            "colorbar": {
             "outlinewidth": 0,
             "ticks": ""
            },
            "type": "contourcarpet"
           }
          ],
          "heatmap": [
           {
            "colorbar": {
             "outlinewidth": 0,
             "ticks": ""
            },
            "colorscale": [
             [
              0,
              "#0d0887"
             ],
             [
              0.1111111111111111,
              "#46039f"
             ],
             [
              0.2222222222222222,
              "#7201a8"
             ],
             [
              0.3333333333333333,
              "#9c179e"
             ],
             [
              0.4444444444444444,
              "#bd3786"
             ],
             [
              0.5555555555555556,
              "#d8576b"
             ],
             [
              0.6666666666666666,
              "#ed7953"
             ],
             [
              0.7777777777777778,
              "#fb9f3a"
             ],
             [
              0.8888888888888888,
              "#fdca26"
             ],
             [
              1,
              "#f0f921"
             ]
            ],
            "type": "heatmap"
           }
          ],
          "histogram": [
           {
            "marker": {
             "pattern": {
              "fillmode": "overlay",
              "size": 10,
              "solidity": 0.2
             }
            },
            "type": "histogram"
           }
          ],
          "histogram2d": [
           {
            "colorbar": {
             "outlinewidth": 0,
             "ticks": ""
            },
            "colorscale": [
             [
              0,
              "#0d0887"
             ],
             [
              0.1111111111111111,
              "#46039f"
             ],
             [
              0.2222222222222222,
              "#7201a8"
             ],
             [
              0.3333333333333333,
              "#9c179e"
             ],
             [
              0.4444444444444444,
              "#bd3786"
             ],
             [
              0.5555555555555556,
              "#d8576b"
             ],
             [
              0.6666666666666666,
              "#ed7953"
             ],
             [
              0.7777777777777778,
              "#fb9f3a"
             ],
             [
              0.8888888888888888,
              "#fdca26"
             ],
             [
              1,
              "#f0f921"
             ]
            ],
            "type": "histogram2d"
           }
          ],
          "histogram2dcontour": [
           {
            "colorbar": {
             "outlinewidth": 0,
             "ticks": ""
            },
            "colorscale": [
             [
              0,
              "#0d0887"
             ],
             [
              0.1111111111111111,
              "#46039f"
             ],
             [
              0.2222222222222222,
              "#7201a8"
             ],
             [
              0.3333333333333333,
              "#9c179e"
             ],
             [
              0.4444444444444444,
              "#bd3786"
             ],
             [
              0.5555555555555556,
              "#d8576b"
             ],
             [
              0.6666666666666666,
              "#ed7953"
             ],
             [
              0.7777777777777778,
              "#fb9f3a"
             ],
             [
              0.8888888888888888,
              "#fdca26"
             ],
             [
              1,
              "#f0f921"
             ]
            ],
            "type": "histogram2dcontour"
           }
          ],
          "mesh3d": [
           {
            "colorbar": {
             "outlinewidth": 0,
             "ticks": ""
            },
            "type": "mesh3d"
           }
          ],
          "parcoords": [
           {
            "line": {
             "colorbar": {
              "outlinewidth": 0,
              "ticks": ""
             }
            },
            "type": "parcoords"
           }
          ],
          "pie": [
           {
            "automargin": true,
            "type": "pie"
           }
          ],
          "scatter": [
           {
            "fillpattern": {
             "fillmode": "overlay",
             "size": 10,
             "solidity": 0.2
            },
            "type": "scatter"
           }
          ],
          "scatter3d": [
           {
            "line": {
             "colorbar": {
              "outlinewidth": 0,
              "ticks": ""
             }
            },
            "marker": {
             "colorbar": {
              "outlinewidth": 0,
              "ticks": ""
             }
            },
            "type": "scatter3d"
           }
          ],
          "scattercarpet": [
           {
            "marker": {
             "colorbar": {
              "outlinewidth": 0,
              "ticks": ""
             }
            },
            "type": "scattercarpet"
           }
          ],
          "scattergeo": [
           {
            "marker": {
             "colorbar": {
              "outlinewidth": 0,
              "ticks": ""
             }
            },
            "type": "scattergeo"
           }
          ],
          "scattergl": [
           {
            "marker": {
             "colorbar": {
              "outlinewidth": 0,
              "ticks": ""
             }
            },
            "type": "scattergl"
           }
          ],
          "scattermap": [
           {
            "marker": {
             "colorbar": {
              "outlinewidth": 0,
              "ticks": ""
             }
            },
            "type": "scattermap"
           }
          ],
          "scattermapbox": [
           {
            "marker": {
             "colorbar": {
              "outlinewidth": 0,
              "ticks": ""
             }
            },
            "type": "scattermapbox"
           }
          ],
          "scatterpolar": [
           {
            "marker": {
             "colorbar": {
              "outlinewidth": 0,
              "ticks": ""
             }
            },
            "type": "scatterpolar"
           }
          ],
          "scatterpolargl": [
           {
            "marker": {
             "colorbar": {
              "outlinewidth": 0,
              "ticks": ""
             }
            },
            "type": "scatterpolargl"
           }
          ],
          "scatterternary": [
           {
            "marker": {
             "colorbar": {
              "outlinewidth": 0,
              "ticks": ""
             }
            },
            "type": "scatterternary"
           }
          ],
          "surface": [
           {
            "colorbar": {
             "outlinewidth": 0,
             "ticks": ""
            },
            "colorscale": [
             [
              0,
              "#0d0887"
             ],
             [
              0.1111111111111111,
              "#46039f"
             ],
             [
              0.2222222222222222,
              "#7201a8"
             ],
             [
              0.3333333333333333,
              "#9c179e"
             ],
             [
              0.4444444444444444,
              "#bd3786"
             ],
             [
              0.5555555555555556,
              "#d8576b"
             ],
             [
              0.6666666666666666,
              "#ed7953"
             ],
             [
              0.7777777777777778,
              "#fb9f3a"
             ],
             [
              0.8888888888888888,
              "#fdca26"
             ],
             [
              1,
              "#f0f921"
             ]
            ],
            "type": "surface"
           }
          ],
          "table": [
           {
            "cells": {
             "fill": {
              "color": "#EBF0F8"
             },
             "line": {
              "color": "white"
             }
            },
            "header": {
             "fill": {
              "color": "#C8D4E3"
             },
             "line": {
              "color": "white"
             }
            },
            "type": "table"
           }
          ]
         },
         "layout": {
          "annotationdefaults": {
           "arrowcolor": "#2a3f5f",
           "arrowhead": 0,
           "arrowwidth": 1
          },
          "autotypenumbers": "strict",
          "coloraxis": {
           "colorbar": {
            "outlinewidth": 0,
            "ticks": ""
           }
          },
          "colorscale": {
           "diverging": [
            [
             0,
             "#8e0152"
            ],
            [
             0.1,
             "#c51b7d"
            ],
            [
             0.2,
             "#de77ae"
            ],
            [
             0.3,
             "#f1b6da"
            ],
            [
             0.4,
             "#fde0ef"
            ],
            [
             0.5,
             "#f7f7f7"
            ],
            [
             0.6,
             "#e6f5d0"
            ],
            [
             0.7,
             "#b8e186"
            ],
            [
             0.8,
             "#7fbc41"
            ],
            [
             0.9,
             "#4d9221"
            ],
            [
             1,
             "#276419"
            ]
           ],
           "sequential": [
            [
             0,
             "#0d0887"
            ],
            [
             0.1111111111111111,
             "#46039f"
            ],
            [
             0.2222222222222222,
             "#7201a8"
            ],
            [
             0.3333333333333333,
             "#9c179e"
            ],
            [
             0.4444444444444444,
             "#bd3786"
            ],
            [
             0.5555555555555556,
             "#d8576b"
            ],
            [
             0.6666666666666666,
             "#ed7953"
            ],
            [
             0.7777777777777778,
             "#fb9f3a"
            ],
            [
             0.8888888888888888,
             "#fdca26"
            ],
            [
             1,
             "#f0f921"
            ]
           ],
           "sequentialminus": [
            [
             0,
             "#0d0887"
            ],
            [
             0.1111111111111111,
             "#46039f"
            ],
            [
             0.2222222222222222,
             "#7201a8"
            ],
            [
             0.3333333333333333,
             "#9c179e"
            ],
            [
             0.4444444444444444,
             "#bd3786"
            ],
            [
             0.5555555555555556,
             "#d8576b"
            ],
            [
             0.6666666666666666,
             "#ed7953"
            ],
            [
             0.7777777777777778,
             "#fb9f3a"
            ],
            [
             0.8888888888888888,
             "#fdca26"
            ],
            [
             1,
             "#f0f921"
            ]
           ]
          },
          "colorway": [
           "#636efa",
           "#EF553B",
           "#00cc96",
           "#ab63fa",
           "#FFA15A",
           "#19d3f3",
           "#FF6692",
           "#B6E880",
           "#FF97FF",
           "#FECB52"
          ],
          "font": {
           "color": "#2a3f5f"
          },
          "geo": {
           "bgcolor": "white",
           "lakecolor": "white",
           "landcolor": "#E5ECF6",
           "showlakes": true,
           "showland": true,
           "subunitcolor": "white"
          },
          "hoverlabel": {
           "align": "left"
          },
          "hovermode": "closest",
          "mapbox": {
           "style": "light"
          },
          "paper_bgcolor": "white",
          "plot_bgcolor": "#E5ECF6",
          "polar": {
           "angularaxis": {
            "gridcolor": "white",
            "linecolor": "white",
            "ticks": ""
           },
           "bgcolor": "#E5ECF6",
           "radialaxis": {
            "gridcolor": "white",
            "linecolor": "white",
            "ticks": ""
           }
          },
          "scene": {
           "xaxis": {
            "backgroundcolor": "#E5ECF6",
            "gridcolor": "white",
            "gridwidth": 2,
            "linecolor": "white",
            "showbackground": true,
            "ticks": "",
            "zerolinecolor": "white"
           },
           "yaxis": {
            "backgroundcolor": "#E5ECF6",
            "gridcolor": "white",
            "gridwidth": 2,
            "linecolor": "white",
            "showbackground": true,
            "ticks": "",
            "zerolinecolor": "white"
           },
           "zaxis": {
            "backgroundcolor": "#E5ECF6",
            "gridcolor": "white",
            "gridwidth": 2,
            "linecolor": "white",
            "showbackground": true,
            "ticks": "",
            "zerolinecolor": "white"
           }
          },
          "shapedefaults": {
           "line": {
            "color": "#2a3f5f"
           }
          },
          "ternary": {
           "aaxis": {
            "gridcolor": "white",
            "linecolor": "white",
            "ticks": ""
           },
           "baxis": {
            "gridcolor": "white",
            "linecolor": "white",
            "ticks": ""
           },
           "bgcolor": "#E5ECF6",
           "caxis": {
            "gridcolor": "white",
            "linecolor": "white",
            "ticks": ""
           }
          },
          "title": {
           "x": 0.05
          },
          "xaxis": {
           "automargin": true,
           "gridcolor": "white",
           "linecolor": "white",
           "ticks": "",
           "title": {
            "standoff": 15
           },
           "zerolinecolor": "white",
           "zerolinewidth": 2
          },
          "yaxis": {
           "automargin": true,
           "gridcolor": "white",
           "linecolor": "white",
           "ticks": "",
           "title": {
            "standoff": 15
           },
           "zerolinecolor": "white",
           "zerolinewidth": 2
          }
         }
        },
        "title": {
         "text": "Correlação dos Parâmetros com DBO (5, 20) — Período: 2012 a 2020"
        },
        "uniformtext": {
         "minsize": 10,
         "mode": "hide"
        },
        "xaxis": {
         "anchor": "y",
         "domain": [
          0,
          1
         ],
         "tickangle": -45,
         "title": {
          "text": "Parâmetro"
         }
        },
        "yaxis": {
         "anchor": "x",
         "domain": [
          0,
          1
         ],
         "range": [
          -0.40731393928928306,
          1
         ],
         "title": {
          "text": "Coeficiente de Correlação"
         }
        }
       }
      }
     },
     "metadata": {},
     "output_type": "display_data"
    }
   ],
   "source": [
    "# ====================================================================\n",
    "#        GRÁFICO DE INFLUENCIADORES - DBO (5, 20) | 2012 a 2020\n",
    "# ====================================================================\n",
    "\n",
    "import pandas as pd\n",
    "import plotly.express as px\n",
    "\n",
    "# Caminho relativo do arquivo Excel (coloque o arquivo na pasta 'dados' do repositório)\n",
    "arquivo = 'dados/TIET04200.xlsx'\n",
    "\n",
    "# Leitura da aba \"Analise\"\n",
    "df = pd.read_excel(arquivo, sheet_name=\"Analise\")\n",
    "\n",
    "# Converter coluna Data para datetime e filtrar entre 2012 e 2020\n",
    "df['Data'] = pd.to_datetime(df['Data'], dayfirst=True)\n",
    "df = df[(df['Data'] >= '2012-01-01') & (df['Data'] <= '2019-12-31')]\n",
    "\n",
    "# Pivotar para ter Data no índice e parâmetros nas colunas\n",
    "df_pivot = df.pivot(index='Data', columns='Parametro', values='Valor')\n",
    "\n",
    "# Calcular correlação com o parâmetro alvo \"DBO (5, 20)\"\n",
    "corr = df_pivot.corr()['DBO (5, 20)'].drop('DBO (5, 20)').dropna()\n",
    "\n",
    "# Preparar DataFrame para o gráfico\n",
    "df_corr = corr.reset_index()\n",
    "df_corr.columns = ['Parametro', 'Correlacao']\n",
    "\n",
    "# Plot interativo com Plotly Express\n",
    "fig = px.bar(\n",
    "    df_corr,\n",
    "    x='Parametro',\n",
    "    y='Correlacao',\n",
    "    title='Correlação dos Parâmetros com DBO (5, 20) — Período: 2012 a 2019',\n",
    "    labels={'Correlacao': 'Coeficiente de Correlação', 'Parametro': 'Parâmetro'},\n",
    "    color='Correlacao',\n",
    "    color_continuous_scale='Viridis',\n",
    "    text=df_corr['Correlacao'].apply(lambda x: f\"{x:.2f}\")\n",
    ")\n",
    "\n",
    "fig.update_traces(textposition='outside')\n",
    "fig.update_layout(\n",
    "    xaxis_tickangle=-45,\n",
    "    uniformtext_minsize=10,\n",
    "    uniformtext_mode='hide',\n",
    "    yaxis=dict(range=[min(df_corr['Correlacao']) - 0.1, 1])\n",
    ")\n",
    "\n",
    "fig.show()\n",
    "\n"
   ]
  },
  {
   "cell_type": "code",
   "execution_count": null,
   "id": "9ded927c",
   "metadata": {},
   "outputs": [
    {
     "data": {
      "application/vnd.plotly.v1+json": {
       "config": {
        "plotlyServerURL": "https://plot.ly"
       },
       "data": [
        {
         "hovertemplate": "Parâmetro=%{x}<br>Coeficiente de Correlação=%{marker.color}<br>text=%{text}<extra></extra>",
         "legendgroup": "",
         "marker": {
          "color": {
           "bdata": "iYizcjhv6j/9qlskOq/oPy4lca4nLeg/Ky8go1B+5z8VtiCc263mPxgOBERyt+U/",
           "dtype": "f8"
          },
          "coloraxis": "coloraxis",
          "pattern": {
           "shape": ""
          }
         },
         "name": "",
         "orientation": "v",
         "showlegend": false,
         "text": [
          "0.83",
          "0.77",
          "0.76",
          "0.73",
          "0.71",
          "0.68"
         ],
         "textposition": "outside",
         "type": "bar",
         "x": [
          "Nitrogênio Total",
          "Fósforo Total",
          "Nitrogênio Amoniacal",
          "Condutividade",
          "Sólido Dissolvido Total",
          "Sólido Total"
         ],
         "xaxis": "x",
         "y": {
          "bdata": "iYizcjhv6j/9qlskOq/oPy4lca4nLeg/Ky8go1B+5z8VtiCc263mPxgOBERyt+U/",
          "dtype": "f8"
         },
         "yaxis": "y"
        }
       ],
       "layout": {
        "barmode": "relative",
        "coloraxis": {
         "cmax": 0.8260767212161834,
         "cmin": 0.6786433533129097,
         "colorbar": {
          "title": {
           "text": "Coeficiente de Correlação"
          }
         },
         "colorscale": [
          [
           0,
           "#cce5ff"
          ],
          [
           1,
           "#003366"
          ]
         ]
        },
        "legend": {
         "tracegroupgap": 0
        },
        "template": {
         "data": {
          "bar": [
           {
            "error_x": {
             "color": "#2a3f5f"
            },
            "error_y": {
             "color": "#2a3f5f"
            },
            "marker": {
             "line": {
              "color": "#E5ECF6",
              "width": 0.5
             },
             "pattern": {
              "fillmode": "overlay",
              "size": 10,
              "solidity": 0.2
             }
            },
            "type": "bar"
           }
          ],
          "barpolar": [
           {
            "marker": {
             "line": {
              "color": "#E5ECF6",
              "width": 0.5
             },
             "pattern": {
              "fillmode": "overlay",
              "size": 10,
              "solidity": 0.2
             }
            },
            "type": "barpolar"
           }
          ],
          "carpet": [
           {
            "aaxis": {
             "endlinecolor": "#2a3f5f",
             "gridcolor": "white",
             "linecolor": "white",
             "minorgridcolor": "white",
             "startlinecolor": "#2a3f5f"
            },
            "baxis": {
             "endlinecolor": "#2a3f5f",
             "gridcolor": "white",
             "linecolor": "white",
             "minorgridcolor": "white",
             "startlinecolor": "#2a3f5f"
            },
            "type": "carpet"
           }
          ],
          "choropleth": [
           {
            "colorbar": {
             "outlinewidth": 0,
             "ticks": ""
            },
            "type": "choropleth"
           }
          ],
          "contour": [
           {
            "colorbar": {
             "outlinewidth": 0,
             "ticks": ""
            },
            "colorscale": [
             [
              0,
              "#0d0887"
             ],
             [
              0.1111111111111111,
              "#46039f"
             ],
             [
              0.2222222222222222,
              "#7201a8"
             ],
             [
              0.3333333333333333,
              "#9c179e"
             ],
             [
              0.4444444444444444,
              "#bd3786"
             ],
             [
              0.5555555555555556,
              "#d8576b"
             ],
             [
              0.6666666666666666,
              "#ed7953"
             ],
             [
              0.7777777777777778,
              "#fb9f3a"
             ],
             [
              0.8888888888888888,
              "#fdca26"
             ],
             [
              1,
              "#f0f921"
             ]
            ],
            "type": "contour"
           }
          ],
          "contourcarpet": [
           {
            "colorbar": {
             "outlinewidth": 0,
             "ticks": ""
            },
            "type": "contourcarpet"
           }
          ],
          "heatmap": [
           {
            "colorbar": {
             "outlinewidth": 0,
             "ticks": ""
            },
            "colorscale": [
             [
              0,
              "#0d0887"
             ],
             [
              0.1111111111111111,
              "#46039f"
             ],
             [
              0.2222222222222222,
              "#7201a8"
             ],
             [
              0.3333333333333333,
              "#9c179e"
             ],
             [
              0.4444444444444444,
              "#bd3786"
             ],
             [
              0.5555555555555556,
              "#d8576b"
             ],
             [
              0.6666666666666666,
              "#ed7953"
             ],
             [
              0.7777777777777778,
              "#fb9f3a"
             ],
             [
              0.8888888888888888,
              "#fdca26"
             ],
             [
              1,
              "#f0f921"
             ]
            ],
            "type": "heatmap"
           }
          ],
          "histogram": [
           {
            "marker": {
             "pattern": {
              "fillmode": "overlay",
              "size": 10,
              "solidity": 0.2
             }
            },
            "type": "histogram"
           }
          ],
          "histogram2d": [
           {
            "colorbar": {
             "outlinewidth": 0,
             "ticks": ""
            },
            "colorscale": [
             [
              0,
              "#0d0887"
             ],
             [
              0.1111111111111111,
              "#46039f"
             ],
             [
              0.2222222222222222,
              "#7201a8"
             ],
             [
              0.3333333333333333,
              "#9c179e"
             ],
             [
              0.4444444444444444,
              "#bd3786"
             ],
             [
              0.5555555555555556,
              "#d8576b"
             ],
             [
              0.6666666666666666,
              "#ed7953"
             ],
             [
              0.7777777777777778,
              "#fb9f3a"
             ],
             [
              0.8888888888888888,
              "#fdca26"
             ],
             [
              1,
              "#f0f921"
             ]
            ],
            "type": "histogram2d"
           }
          ],
          "histogram2dcontour": [
           {
            "colorbar": {
             "outlinewidth": 0,
             "ticks": ""
            },
            "colorscale": [
             [
              0,
              "#0d0887"
             ],
             [
              0.1111111111111111,
              "#46039f"
             ],
             [
              0.2222222222222222,
              "#7201a8"
             ],
             [
              0.3333333333333333,
              "#9c179e"
             ],
             [
              0.4444444444444444,
              "#bd3786"
             ],
             [
              0.5555555555555556,
              "#d8576b"
             ],
             [
              0.6666666666666666,
              "#ed7953"
             ],
             [
              0.7777777777777778,
              "#fb9f3a"
             ],
             [
              0.8888888888888888,
              "#fdca26"
             ],
             [
              1,
              "#f0f921"
             ]
            ],
            "type": "histogram2dcontour"
           }
          ],
          "mesh3d": [
           {
            "colorbar": {
             "outlinewidth": 0,
             "ticks": ""
            },
            "type": "mesh3d"
           }
          ],
          "parcoords": [
           {
            "line": {
             "colorbar": {
              "outlinewidth": 0,
              "ticks": ""
             }
            },
            "type": "parcoords"
           }
          ],
          "pie": [
           {
            "automargin": true,
            "type": "pie"
           }
          ],
          "scatter": [
           {
            "fillpattern": {
             "fillmode": "overlay",
             "size": 10,
             "solidity": 0.2
            },
            "type": "scatter"
           }
          ],
          "scatter3d": [
           {
            "line": {
             "colorbar": {
              "outlinewidth": 0,
              "ticks": ""
             }
            },
            "marker": {
             "colorbar": {
              "outlinewidth": 0,
              "ticks": ""
             }
            },
            "type": "scatter3d"
           }
          ],
          "scattercarpet": [
           {
            "marker": {
             "colorbar": {
              "outlinewidth": 0,
              "ticks": ""
             }
            },
            "type": "scattercarpet"
           }
          ],
          "scattergeo": [
           {
            "marker": {
             "colorbar": {
              "outlinewidth": 0,
              "ticks": ""
             }
            },
            "type": "scattergeo"
           }
          ],
          "scattergl": [
           {
            "marker": {
             "colorbar": {
              "outlinewidth": 0,
              "ticks": ""
             }
            },
            "type": "scattergl"
           }
          ],
          "scattermap": [
           {
            "marker": {
             "colorbar": {
              "outlinewidth": 0,
              "ticks": ""
             }
            },
            "type": "scattermap"
           }
          ],
          "scattermapbox": [
           {
            "marker": {
             "colorbar": {
              "outlinewidth": 0,
              "ticks": ""
             }
            },
            "type": "scattermapbox"
           }
          ],
          "scatterpolar": [
           {
            "marker": {
             "colorbar": {
              "outlinewidth": 0,
              "ticks": ""
             }
            },
            "type": "scatterpolar"
           }
          ],
          "scatterpolargl": [
           {
            "marker": {
             "colorbar": {
              "outlinewidth": 0,
              "ticks": ""
             }
            },
            "type": "scatterpolargl"
           }
          ],
          "scatterternary": [
           {
            "marker": {
             "colorbar": {
              "outlinewidth": 0,
              "ticks": ""
             }
            },
            "type": "scatterternary"
           }
          ],
          "surface": [
           {
            "colorbar": {
             "outlinewidth": 0,
             "ticks": ""
            },
            "colorscale": [
             [
              0,
              "#0d0887"
             ],
             [
              0.1111111111111111,
              "#46039f"
             ],
             [
              0.2222222222222222,
              "#7201a8"
             ],
             [
              0.3333333333333333,
              "#9c179e"
             ],
             [
              0.4444444444444444,
              "#bd3786"
             ],
             [
              0.5555555555555556,
              "#d8576b"
             ],
             [
              0.6666666666666666,
              "#ed7953"
             ],
             [
              0.7777777777777778,
              "#fb9f3a"
             ],
             [
              0.8888888888888888,
              "#fdca26"
             ],
             [
              1,
              "#f0f921"
             ]
            ],
            "type": "surface"
           }
          ],
          "table": [
           {
            "cells": {
             "fill": {
              "color": "#EBF0F8"
             },
             "line": {
              "color": "white"
             }
            },
            "header": {
             "fill": {
              "color": "#C8D4E3"
             },
             "line": {
              "color": "white"
             }
            },
            "type": "table"
           }
          ]
         },
         "layout": {
          "annotationdefaults": {
           "arrowcolor": "#2a3f5f",
           "arrowhead": 0,
           "arrowwidth": 1
          },
          "autotypenumbers": "strict",
          "coloraxis": {
           "colorbar": {
            "outlinewidth": 0,
            "ticks": ""
           }
          },
          "colorscale": {
           "diverging": [
            [
             0,
             "#8e0152"
            ],
            [
             0.1,
             "#c51b7d"
            ],
            [
             0.2,
             "#de77ae"
            ],
            [
             0.3,
             "#f1b6da"
            ],
            [
             0.4,
             "#fde0ef"
            ],
            [
             0.5,
             "#f7f7f7"
            ],
            [
             0.6,
             "#e6f5d0"
            ],
            [
             0.7,
             "#b8e186"
            ],
            [
             0.8,
             "#7fbc41"
            ],
            [
             0.9,
             "#4d9221"
            ],
            [
             1,
             "#276419"
            ]
           ],
           "sequential": [
            [
             0,
             "#0d0887"
            ],
            [
             0.1111111111111111,
             "#46039f"
            ],
            [
             0.2222222222222222,
             "#7201a8"
            ],
            [
             0.3333333333333333,
             "#9c179e"
            ],
            [
             0.4444444444444444,
             "#bd3786"
            ],
            [
             0.5555555555555556,
             "#d8576b"
            ],
            [
             0.6666666666666666,
             "#ed7953"
            ],
            [
             0.7777777777777778,
             "#fb9f3a"
            ],
            [
             0.8888888888888888,
             "#fdca26"
            ],
            [
             1,
             "#f0f921"
            ]
           ],
           "sequentialminus": [
            [
             0,
             "#0d0887"
            ],
            [
             0.1111111111111111,
             "#46039f"
            ],
            [
             0.2222222222222222,
             "#7201a8"
            ],
            [
             0.3333333333333333,
             "#9c179e"
            ],
            [
             0.4444444444444444,
             "#bd3786"
            ],
            [
             0.5555555555555556,
             "#d8576b"
            ],
            [
             0.6666666666666666,
             "#ed7953"
            ],
            [
             0.7777777777777778,
             "#fb9f3a"
            ],
            [
             0.8888888888888888,
             "#fdca26"
            ],
            [
             1,
             "#f0f921"
            ]
           ]
          },
          "colorway": [
           "#636efa",
           "#EF553B",
           "#00cc96",
           "#ab63fa",
           "#FFA15A",
           "#19d3f3",
           "#FF6692",
           "#B6E880",
           "#FF97FF",
           "#FECB52"
          ],
          "font": {
           "color": "#2a3f5f"
          },
          "geo": {
           "bgcolor": "white",
           "lakecolor": "white",
           "landcolor": "#E5ECF6",
           "showlakes": true,
           "showland": true,
           "subunitcolor": "white"
          },
          "hoverlabel": {
           "align": "left"
          },
          "hovermode": "closest",
          "mapbox": {
           "style": "light"
          },
          "paper_bgcolor": "white",
          "plot_bgcolor": "#E5ECF6",
          "polar": {
           "angularaxis": {
            "gridcolor": "white",
            "linecolor": "white",
            "ticks": ""
           },
           "bgcolor": "#E5ECF6",
           "radialaxis": {
            "gridcolor": "white",
            "linecolor": "white",
            "ticks": ""
           }
          },
          "scene": {
           "xaxis": {
            "backgroundcolor": "#E5ECF6",
            "gridcolor": "white",
            "gridwidth": 2,
            "linecolor": "white",
            "showbackground": true,
            "ticks": "",
            "zerolinecolor": "white"
           },
           "yaxis": {
            "backgroundcolor": "#E5ECF6",
            "gridcolor": "white",
            "gridwidth": 2,
            "linecolor": "white",
            "showbackground": true,
            "ticks": "",
            "zerolinecolor": "white"
           },
           "zaxis": {
            "backgroundcolor": "#E5ECF6",
            "gridcolor": "white",
            "gridwidth": 2,
            "linecolor": "white",
            "showbackground": true,
            "ticks": "",
            "zerolinecolor": "white"
           }
          },
          "shapedefaults": {
           "line": {
            "color": "#2a3f5f"
           }
          },
          "ternary": {
           "aaxis": {
            "gridcolor": "white",
            "linecolor": "white",
            "ticks": ""
           },
           "baxis": {
            "gridcolor": "white",
            "linecolor": "white",
            "ticks": ""
           },
           "bgcolor": "#E5ECF6",
           "caxis": {
            "gridcolor": "white",
            "linecolor": "white",
            "ticks": ""
           }
          },
          "title": {
           "x": 0.05
          },
          "xaxis": {
           "automargin": true,
           "gridcolor": "white",
           "linecolor": "white",
           "ticks": "",
           "title": {
            "standoff": 15
           },
           "zerolinecolor": "white",
           "zerolinewidth": 2
          },
          "yaxis": {
           "automargin": true,
           "gridcolor": "white",
           "linecolor": "white",
           "ticks": "",
           "title": {
            "standoff": 15
           },
           "zerolinecolor": "white",
           "zerolinewidth": 2
          }
         }
        },
        "title": {
         "text": "Top 6 Parâmetros com Maior Correlação com DBO (5, 20) — 2012 a 2019"
        },
        "uniformtext": {
         "minsize": 10,
         "mode": "hide"
        },
        "xaxis": {
         "anchor": "y",
         "domain": [
          0,
          1
         ],
         "tickangle": -45,
         "title": {
          "text": "Parâmetro"
         }
        },
        "yaxis": {
         "anchor": "x",
         "domain": [
          0,
          1
         ],
         "range": [
          0.5786433533129097,
          1
         ],
         "title": {
          "text": "Coeficiente de Correlação"
         }
        }
       }
      }
     },
     "metadata": {},
     "output_type": "display_data"
    }
   ],
   "source": [
    "import pandas as pd\n",
    "import plotly.express as px\n",
    "\n",
    "# Caminho relativo do arquivo Excel (coloque o arquivo na pasta 'dados' do repositório)\n",
    "arquivo = 'dados/TIET04200.xlsx'\n",
    "df = pd.read_excel(arquivo, sheet_name=\"Analise\")\n",
    "\n",
    "# Converter coluna Data para datetime e filtrar entre 2012 e 2019\n",
    "df['Data'] = pd.to_datetime(df['Data'], dayfirst=True)\n",
    "df = df[(df['Data'] >= '2012-01-01') & (df['Data'] <= '2019-12-31')]\n",
    "\n",
    "# Pivotar para ter Data no índice e parâmetros nas colunas\n",
    "df_pivot = df.pivot(index='Data', columns='Parametro', values='Valor')\n",
    "\n",
    "# Calcular correlação com o parâmetro alvo \"DBO (5, 20)\"\n",
    "corr = df_pivot.corr()['DBO (5, 20)'].drop('DBO (5, 20)').dropna()\n",
    "\n",
    "# Pegar só os 6 maiores em valor absoluto\n",
    "corr_top6 = corr.reindex(corr.abs().sort_values(ascending=False).index)[:6]\n",
    "\n",
    "# Preparar DataFrame para o gráfico\n",
    "df_corr = corr_top6.reset_index()\n",
    "df_corr.columns = ['Parametro', 'Correlacao']\n",
    "\n",
    "# Ajustar range_color para seu intervalo real\n",
    "min_corr = df_corr['Correlacao'].min()\n",
    "max_corr = df_corr['Correlacao'].max()\n",
    "\n",
    "# Definir escala só com azul, do clarinho (#cce5ff) até azul escuro (#003366)\n",
    "blue_scale = ['#cce5ff', '#003366']\n",
    "\n",
    "fig = px.bar(\n",
    "    df_corr,\n",
    "    x='Parametro',\n",
    "    y='Correlacao',\n",
    "    title='Top 6 Parâmetros com Maior Correlação com DBO (5, 20) — 2012 a 2019',\n",
    "    labels={'Correlacao': 'Coeficiente de Correlação', 'Parametro': 'Parâmetro'},\n",
    "    color='Correlacao',\n",
    "    color_continuous_scale=blue_scale,\n",
    "    range_color=[min_corr, max_corr],\n",
    "    text=df_corr['Correlacao'].apply(lambda x: f\"{x:.2f}\")\n",
    ")\n",
    "\n",
    "fig.update_traces(textposition='outside')\n",
    "fig.update_layout(\n",
    "    xaxis_tickangle=-45,\n",
    "    uniformtext_minsize=10,\n",
    "    uniformtext_mode='hide',\n",
    "    yaxis=dict(range=[min_corr - 0.1, 1])\n",
    ")\n",
    "\n",
    "fig.show()\n",
    "\n"
   ]
  },
  {
   "cell_type": "code",
   "execution_count": null,
   "id": "f195ab22",
   "metadata": {},
   "outputs": [
    {
     "data": {
      "application/vnd.plotly.v1+json": {
       "config": {
        "plotlyServerURL": "https://plot.ly"
       },
       "data": [
        {
         "cells": {
          "align": "center",
          "fill": {
           "color": [
            [
             "#D6EAF8",
             "white",
             "#D6EAF8",
             "white",
             "#D6EAF8",
             "white",
             "#D6EAF8",
             "white"
            ]
           ]
          },
          "font": {
           "color": "#222222",
           "size": 12
          },
          "height": 30,
          "values": [
           [
            "DBO (5, 20)",
            "Fósforo Total",
            "Condutividade",
            "Sólido Dissolvido Total",
            "Nitrogênio Amoniacal",
            "Sólido Total"
           ],
           [
            "47.11",
            "1.77",
            "580.12",
            "307.77",
            "15.00",
            "363.29"
           ],
           [
            "40.50",
            "1.59",
            "588.00",
            "304.00",
            "14.60",
            "361.00"
           ],
           [
            "23.93",
            "0.96",
            "177.45",
            "93.82",
            "7.24",
            "96.00"
           ],
           [
            "10.00",
            "0.10",
            "262.00",
            "136.00",
            "3.59",
            "178.00"
           ],
           [
            "96.00",
            "3.82",
            "921.00",
            "508.00",
            "28.90",
            "642.00"
           ],
           [
            "27.00",
            "1.05",
            "444.75",
            "235.50",
            "8.57",
            "295.00"
           ],
           [
            "65.75",
            "2.68",
            "723.00",
            "382.00",
            "20.65",
            "416.00"
           ]
          ]
         },
         "columnwidth": [
          150,
          110,
          110,
          110,
          110,
          110,
          110,
          110
         ],
         "header": {
          "align": "center",
          "fill": {
           "color": "#4B8BBE"
          },
          "font": {
           "color": "white",
           "size": 14
          },
          "height": 40,
          "values": [
           "<b>Parâmetro</b>",
           "<b>Média</b>",
           "<b>Mediana</b>",
           "<b>Desvio Padrão</b>",
           "<b>Mínimo</b>",
           "<b>Máximo</b>",
           "<b>1º Quartil (25%)</b>",
           "<b>3º Quartil (75%)</b>"
          ]
         },
         "type": "table"
        }
       ],
       "layout": {
        "height": 500,
        "margin": {
         "b": 20,
         "l": 20,
         "r": 20,
         "t": 60
        },
        "template": {
         "data": {
          "bar": [
           {
            "error_x": {
             "color": "#2a3f5f"
            },
            "error_y": {
             "color": "#2a3f5f"
            },
            "marker": {
             "line": {
              "color": "#E5ECF6",
              "width": 0.5
             },
             "pattern": {
              "fillmode": "overlay",
              "size": 10,
              "solidity": 0.2
             }
            },
            "type": "bar"
           }
          ],
          "barpolar": [
           {
            "marker": {
             "line": {
              "color": "#E5ECF6",
              "width": 0.5
             },
             "pattern": {
              "fillmode": "overlay",
              "size": 10,
              "solidity": 0.2
             }
            },
            "type": "barpolar"
           }
          ],
          "carpet": [
           {
            "aaxis": {
             "endlinecolor": "#2a3f5f",
             "gridcolor": "white",
             "linecolor": "white",
             "minorgridcolor": "white",
             "startlinecolor": "#2a3f5f"
            },
            "baxis": {
             "endlinecolor": "#2a3f5f",
             "gridcolor": "white",
             "linecolor": "white",
             "minorgridcolor": "white",
             "startlinecolor": "#2a3f5f"
            },
            "type": "carpet"
           }
          ],
          "choropleth": [
           {
            "colorbar": {
             "outlinewidth": 0,
             "ticks": ""
            },
            "type": "choropleth"
           }
          ],
          "contour": [
           {
            "colorbar": {
             "outlinewidth": 0,
             "ticks": ""
            },
            "colorscale": [
             [
              0,
              "#0d0887"
             ],
             [
              0.1111111111111111,
              "#46039f"
             ],
             [
              0.2222222222222222,
              "#7201a8"
             ],
             [
              0.3333333333333333,
              "#9c179e"
             ],
             [
              0.4444444444444444,
              "#bd3786"
             ],
             [
              0.5555555555555556,
              "#d8576b"
             ],
             [
              0.6666666666666666,
              "#ed7953"
             ],
             [
              0.7777777777777778,
              "#fb9f3a"
             ],
             [
              0.8888888888888888,
              "#fdca26"
             ],
             [
              1,
              "#f0f921"
             ]
            ],
            "type": "contour"
           }
          ],
          "contourcarpet": [
           {
            "colorbar": {
             "outlinewidth": 0,
             "ticks": ""
            },
            "type": "contourcarpet"
           }
          ],
          "heatmap": [
           {
            "colorbar": {
             "outlinewidth": 0,
             "ticks": ""
            },
            "colorscale": [
             [
              0,
              "#0d0887"
             ],
             [
              0.1111111111111111,
              "#46039f"
             ],
             [
              0.2222222222222222,
              "#7201a8"
             ],
             [
              0.3333333333333333,
              "#9c179e"
             ],
             [
              0.4444444444444444,
              "#bd3786"
             ],
             [
              0.5555555555555556,
              "#d8576b"
             ],
             [
              0.6666666666666666,
              "#ed7953"
             ],
             [
              0.7777777777777778,
              "#fb9f3a"
             ],
             [
              0.8888888888888888,
              "#fdca26"
             ],
             [
              1,
              "#f0f921"
             ]
            ],
            "type": "heatmap"
           }
          ],
          "histogram": [
           {
            "marker": {
             "pattern": {
              "fillmode": "overlay",
              "size": 10,
              "solidity": 0.2
             }
            },
            "type": "histogram"
           }
          ],
          "histogram2d": [
           {
            "colorbar": {
             "outlinewidth": 0,
             "ticks": ""
            },
            "colorscale": [
             [
              0,
              "#0d0887"
             ],
             [
              0.1111111111111111,
              "#46039f"
             ],
             [
              0.2222222222222222,
              "#7201a8"
             ],
             [
              0.3333333333333333,
              "#9c179e"
             ],
             [
              0.4444444444444444,
              "#bd3786"
             ],
             [
              0.5555555555555556,
              "#d8576b"
             ],
             [
              0.6666666666666666,
              "#ed7953"
             ],
             [
              0.7777777777777778,
              "#fb9f3a"
             ],
             [
              0.8888888888888888,
              "#fdca26"
             ],
             [
              1,
              "#f0f921"
             ]
            ],
            "type": "histogram2d"
           }
          ],
          "histogram2dcontour": [
           {
            "colorbar": {
             "outlinewidth": 0,
             "ticks": ""
            },
            "colorscale": [
             [
              0,
              "#0d0887"
             ],
             [
              0.1111111111111111,
              "#46039f"
             ],
             [
              0.2222222222222222,
              "#7201a8"
             ],
             [
              0.3333333333333333,
              "#9c179e"
             ],
             [
              0.4444444444444444,
              "#bd3786"
             ],
             [
              0.5555555555555556,
              "#d8576b"
             ],
             [
              0.6666666666666666,
              "#ed7953"
             ],
             [
              0.7777777777777778,
              "#fb9f3a"
             ],
             [
              0.8888888888888888,
              "#fdca26"
             ],
             [
              1,
              "#f0f921"
             ]
            ],
            "type": "histogram2dcontour"
           }
          ],
          "mesh3d": [
           {
            "colorbar": {
             "outlinewidth": 0,
             "ticks": ""
            },
            "type": "mesh3d"
           }
          ],
          "parcoords": [
           {
            "line": {
             "colorbar": {
              "outlinewidth": 0,
              "ticks": ""
             }
            },
            "type": "parcoords"
           }
          ],
          "pie": [
           {
            "automargin": true,
            "type": "pie"
           }
          ],
          "scatter": [
           {
            "fillpattern": {
             "fillmode": "overlay",
             "size": 10,
             "solidity": 0.2
            },
            "type": "scatter"
           }
          ],
          "scatter3d": [
           {
            "line": {
             "colorbar": {
              "outlinewidth": 0,
              "ticks": ""
             }
            },
            "marker": {
             "colorbar": {
              "outlinewidth": 0,
              "ticks": ""
             }
            },
            "type": "scatter3d"
           }
          ],
          "scattercarpet": [
           {
            "marker": {
             "colorbar": {
              "outlinewidth": 0,
              "ticks": ""
             }
            },
            "type": "scattercarpet"
           }
          ],
          "scattergeo": [
           {
            "marker": {
             "colorbar": {
              "outlinewidth": 0,
              "ticks": ""
             }
            },
            "type": "scattergeo"
           }
          ],
          "scattergl": [
           {
            "marker": {
             "colorbar": {
              "outlinewidth": 0,
              "ticks": ""
             }
            },
            "type": "scattergl"
           }
          ],
          "scattermap": [
           {
            "marker": {
             "colorbar": {
              "outlinewidth": 0,
              "ticks": ""
             }
            },
            "type": "scattermap"
           }
          ],
          "scattermapbox": [
           {
            "marker": {
             "colorbar": {
              "outlinewidth": 0,
              "ticks": ""
             }
            },
            "type": "scattermapbox"
           }
          ],
          "scatterpolar": [
           {
            "marker": {
             "colorbar": {
              "outlinewidth": 0,
              "ticks": ""
             }
            },
            "type": "scatterpolar"
           }
          ],
          "scatterpolargl": [
           {
            "marker": {
             "colorbar": {
              "outlinewidth": 0,
              "ticks": ""
             }
            },
            "type": "scatterpolargl"
           }
          ],
          "scatterternary": [
           {
            "marker": {
             "colorbar": {
              "outlinewidth": 0,
              "ticks": ""
             }
            },
            "type": "scatterternary"
           }
          ],
          "surface": [
           {
            "colorbar": {
             "outlinewidth": 0,
             "ticks": ""
            },
            "colorscale": [
             [
              0,
              "#0d0887"
             ],
             [
              0.1111111111111111,
              "#46039f"
             ],
             [
              0.2222222222222222,
              "#7201a8"
             ],
             [
              0.3333333333333333,
              "#9c179e"
             ],
             [
              0.4444444444444444,
              "#bd3786"
             ],
             [
              0.5555555555555556,
              "#d8576b"
             ],
             [
              0.6666666666666666,
              "#ed7953"
             ],
             [
              0.7777777777777778,
              "#fb9f3a"
             ],
             [
              0.8888888888888888,
              "#fdca26"
             ],
             [
              1,
              "#f0f921"
             ]
            ],
            "type": "surface"
           }
          ],
          "table": [
           {
            "cells": {
             "fill": {
              "color": "#EBF0F8"
             },
             "line": {
              "color": "white"
             }
            },
            "header": {
             "fill": {
              "color": "#C8D4E3"
             },
             "line": {
              "color": "white"
             }
            },
            "type": "table"
           }
          ]
         },
         "layout": {
          "annotationdefaults": {
           "arrowcolor": "#2a3f5f",
           "arrowhead": 0,
           "arrowwidth": 1
          },
          "autotypenumbers": "strict",
          "coloraxis": {
           "colorbar": {
            "outlinewidth": 0,
            "ticks": ""
           }
          },
          "colorscale": {
           "diverging": [
            [
             0,
             "#8e0152"
            ],
            [
             0.1,
             "#c51b7d"
            ],
            [
             0.2,
             "#de77ae"
            ],
            [
             0.3,
             "#f1b6da"
            ],
            [
             0.4,
             "#fde0ef"
            ],
            [
             0.5,
             "#f7f7f7"
            ],
            [
             0.6,
             "#e6f5d0"
            ],
            [
             0.7,
             "#b8e186"
            ],
            [
             0.8,
             "#7fbc41"
            ],
            [
             0.9,
             "#4d9221"
            ],
            [
             1,
             "#276419"
            ]
           ],
           "sequential": [
            [
             0,
             "#0d0887"
            ],
            [
             0.1111111111111111,
             "#46039f"
            ],
            [
             0.2222222222222222,
             "#7201a8"
            ],
            [
             0.3333333333333333,
             "#9c179e"
            ],
            [
             0.4444444444444444,
             "#bd3786"
            ],
            [
             0.5555555555555556,
             "#d8576b"
            ],
            [
             0.6666666666666666,
             "#ed7953"
            ],
            [
             0.7777777777777778,
             "#fb9f3a"
            ],
            [
             0.8888888888888888,
             "#fdca26"
            ],
            [
             1,
             "#f0f921"
            ]
           ],
           "sequentialminus": [
            [
             0,
             "#0d0887"
            ],
            [
             0.1111111111111111,
             "#46039f"
            ],
            [
             0.2222222222222222,
             "#7201a8"
            ],
            [
             0.3333333333333333,
             "#9c179e"
            ],
            [
             0.4444444444444444,
             "#bd3786"
            ],
            [
             0.5555555555555556,
             "#d8576b"
            ],
            [
             0.6666666666666666,
             "#ed7953"
            ],
            [
             0.7777777777777778,
             "#fb9f3a"
            ],
            [
             0.8888888888888888,
             "#fdca26"
            ],
            [
             1,
             "#f0f921"
            ]
           ]
          },
          "colorway": [
           "#636efa",
           "#EF553B",
           "#00cc96",
           "#ab63fa",
           "#FFA15A",
           "#19d3f3",
           "#FF6692",
           "#B6E880",
           "#FF97FF",
           "#FECB52"
          ],
          "font": {
           "color": "#2a3f5f"
          },
          "geo": {
           "bgcolor": "white",
           "lakecolor": "white",
           "landcolor": "#E5ECF6",
           "showlakes": true,
           "showland": true,
           "subunitcolor": "white"
          },
          "hoverlabel": {
           "align": "left"
          },
          "hovermode": "closest",
          "mapbox": {
           "style": "light"
          },
          "paper_bgcolor": "white",
          "plot_bgcolor": "#E5ECF6",
          "polar": {
           "angularaxis": {
            "gridcolor": "white",
            "linecolor": "white",
            "ticks": ""
           },
           "bgcolor": "#E5ECF6",
           "radialaxis": {
            "gridcolor": "white",
            "linecolor": "white",
            "ticks": ""
           }
          },
          "scene": {
           "xaxis": {
            "backgroundcolor": "#E5ECF6",
            "gridcolor": "white",
            "gridwidth": 2,
            "linecolor": "white",
            "showbackground": true,
            "ticks": "",
            "zerolinecolor": "white"
           },
           "yaxis": {
            "backgroundcolor": "#E5ECF6",
            "gridcolor": "white",
            "gridwidth": 2,
            "linecolor": "white",
            "showbackground": true,
            "ticks": "",
            "zerolinecolor": "white"
           },
           "zaxis": {
            "backgroundcolor": "#E5ECF6",
            "gridcolor": "white",
            "gridwidth": 2,
            "linecolor": "white",
            "showbackground": true,
            "ticks": "",
            "zerolinecolor": "white"
           }
          },
          "shapedefaults": {
           "line": {
            "color": "#2a3f5f"
           }
          },
          "ternary": {
           "aaxis": {
            "gridcolor": "white",
            "linecolor": "white",
            "ticks": ""
           },
           "baxis": {
            "gridcolor": "white",
            "linecolor": "white",
            "ticks": ""
           },
           "bgcolor": "#E5ECF6",
           "caxis": {
            "gridcolor": "white",
            "linecolor": "white",
            "ticks": ""
           }
          },
          "title": {
           "x": 0.05
          },
          "xaxis": {
           "automargin": true,
           "gridcolor": "white",
           "linecolor": "white",
           "ticks": "",
           "title": {
            "standoff": 15
           },
           "zerolinecolor": "white",
           "zerolinewidth": 2
          },
          "yaxis": {
           "automargin": true,
           "gridcolor": "white",
           "linecolor": "white",
           "ticks": "",
           "title": {
            "standoff": 15
           },
           "zerolinecolor": "white",
           "zerolinewidth": 2
          }
         }
        },
        "title": {
         "font": {
          "size": 18
         },
         "text": "Estatísticas dos Parâmetros (2012 - 2019)",
         "x": 0.5
        },
        "width": 1200
       }
      }
     },
     "metadata": {},
     "output_type": "display_data"
    }
   ],
   "source": [
    "import pandas as pd\n",
    "import plotly.graph_objects as go\n",
    "\n",
    "# Caminho relativo do arquivo Excel (coloque o arquivo na pasta 'dados' do repositório)\n",
    "arquivo = 'dados/TIET04200.xlsx'\n",
    "df = pd.read_excel(arquivo, sheet_name=\"Analise\")\n",
    "\n",
    "# Converter coluna Data para datetime e filtrar entre 2012 e 2020\n",
    "df['Data'] = pd.to_datetime(df['Data'], dayfirst=True)\n",
    "df_periodo = df[(df['Data'] >= '2012-01-01') & (df['Data'] <= '2019-12-31')]\n",
    "\n",
    "# Lista dos parâmetros que quer analisar\n",
    "parametros = ['DBO (5, 20)', 'Fósforo Total', 'Condutividade', 'Sólido Dissolvido Total', 'Nitrogênio Amoniacal', 'Sólido Total']\n",
    "\n",
    "# Dicionário para armazenar as estatísticas (sem Contagem, Assimetria, Curtose e Valores Nulos)\n",
    "estatisticas_geral = {\n",
    "    'Parâmetro': [],\n",
    "    'Média': [],\n",
    "    'Mediana': [],\n",
    "    'Desvio Padrão': [],\n",
    "    'Mínimo': [],\n",
    "    'Máximo': [],\n",
    "    '1º Quartil (25%)': [],\n",
    "    '3º Quartil (75%)': []\n",
    "}\n",
    "\n",
    "for p in parametros:\n",
    "    dados = df_periodo[df_periodo['Parametro'] == p]['Valor']\n",
    "    estatisticas_geral['Parâmetro'].append(p)\n",
    "    estatisticas_geral['Média'].append(dados.mean())\n",
    "    estatisticas_geral['Mediana'].append(dados.median())\n",
    "    estatisticas_geral['Desvio Padrão'].append(dados.std())\n",
    "    estatisticas_geral['Mínimo'].append(dados.min())\n",
    "    estatisticas_geral['Máximo'].append(dados.max())\n",
    "    estatisticas_geral['1º Quartil (25%)'].append(dados.quantile(0.25))\n",
    "    estatisticas_geral['3º Quartil (75%)'].append(dados.quantile(0.75))\n",
    "\n",
    "# Transformar em DataFrame\n",
    "df_stats = pd.DataFrame(estatisticas_geral)\n",
    "\n",
    "# Formatar números decimais para duas casas, exceto parâmetro\n",
    "for col in df_stats.columns:\n",
    "    if col != 'Parâmetro':\n",
    "        df_stats[col] = df_stats[col].apply(lambda x: f\"{x:.2f}\" if pd.notnull(x) else \"NaN\")\n",
    "\n",
    "# Criar tabela Plotly interativa\n",
    "fig = go.Figure(data=[go.Table(\n",
    "    columnwidth=[150] + [110]*7,\n",
    "    header=dict(\n",
    "        values=[f\"<b>{c}</b>\" for c in df_stats.columns],\n",
    "        fill_color='#4B8BBE',\n",
    "        font=dict(color='white', size=14),\n",
    "        align='center',\n",
    "        height=40\n",
    "    ),\n",
    "    cells=dict(\n",
    "        values=[df_stats[col] for col in df_stats.columns],\n",
    "        fill_color=[['#D6EAF8', 'white'] * (len(df_stats) // 2 + 1)],\n",
    "        align='center',\n",
    "        font=dict(color='#222222', size=12),\n",
    "        height=30\n",
    "    )\n",
    ")])\n",
    "\n",
    "fig.update_layout(\n",
    "    title_text='Estatísticas dos Parâmetros (2012 - 2020)',\n",
    "    title_font_size=18,\n",
    "    title_x=0.5,\n",
    "    width=1200,\n",
    "    height=500,\n",
    "    margin=dict(l=20, r=20, t=60, b=20)\n",
    ")\n",
    "\n",
    "fig.show()\n"
   ]
  },
  {
   "cell_type": "code",
   "execution_count": 1,
   "id": "4e6c5a46",
   "metadata": {},
   "outputs": [
    {
     "name": "stderr",
     "output_type": "stream",
     "text": [
      "\n",
      "KeyboardInterrupt\n",
      "\n"
     ]
    }
   ],
   "source": [
    import os
import numpy as np
import pandas as pd
import matplotlib.pyplot as plt
import matplotlib.dates as mdates  # para formatar datas

from sklearn.base import clone
from sklearn.pipeline import Pipeline
from sklearn.impute import SimpleImputer
from sklearn.preprocessing import StandardScaler
from sklearn.ensemble import RandomForestRegressor
from sklearn.neural_network import MLPRegressor
from sklearn.linear_model import Ridge, LinearRegression
from sklearn.model_selection import TimeSeriesSplit
from sklearn.metrics import mean_squared_error, mean_absolute_error, r2_score

# ==================== config ====================
ARQUIVO = CAMINHO_E_NOME_DO_ARQUIVO_
SHEET   = "Analise"
DATECOL = "Data"
TARGET  = "DBO (5, 20)"
BASE_FEATS = ['Fósforo Total', 'Condutividade', 'Sólido Dissolvido Total', 'Nitrogênio Amoniacal', 'Sólido Total']

N_RECENT_FOLDS = 3      # quantos folds recentes considerar
ROLL_WINDOW    = 6
OUT_DIR        = "resultados_artigo"
os.makedirs(OUT_DIR, exist_ok=True)

# ==================== utils ====================
def mape(y_true, y_pred):
    y_true, y_pred = np.asarray(y_true), np.asarray(y_pred)
    mask = y_true != 0
    if not np.any(mask):
        return np.nan
    return np.mean(np.abs((y_true[mask] - y_pred[mask]) / y_true[mask])) * 100

def get_estacao(ts: pd.Timestamp):
    ano = ts.year
    verao_i = pd.Timestamp(ano, 12, 21)
    outono_i = pd.Timestamp(ano, 3, 21)
    inverno_i = pd.Timestamp(ano, 6, 21)
    primav_i = pd.Timestamp(ano, 9, 23)
    verao_f = pd.Timestamp(ano, 3, 20)
    if (ts >= verao_i) or (ts <= verao_f): return "Verao"
    elif (ts > outono_i) and (ts <= inverno_i): return "Outono"
    elif (ts > inverno_i) and (ts <= primav_i): return "Inverno"
    else: return "Primavera"

# ==================== dados ====================
if not os.path.exists(ARQUIVO):
    raise FileNotFoundError(ARQUIVO)

df = pd.read_excel(ARQUIVO, sheet_name=SHEET)
if DATECOL not in df.columns:
    raise ValueError(f"Coluna '{DATECOL}' não encontrada.")
df[DATECOL] = pd.to_datetime(df[DATECOL], dayfirst=True)
df = df[(df[DATECOL] >= "2012-01-01") & (df[DATECOL] <= "2019-12-31")]

if not {"Parametro","Valor"}.issubset(df.columns):
    raise ValueError("Faltam colunas Parametro/Valor.")

pivot = df.pivot(index=DATECOL, columns="Parametro", values="Valor").sort_index()
pivot = pivot.drop(columns=[c for c in ['Nitrogênio Total','Dureza','Sólido Suspenso Total'] if c in pivot.columns],
                   errors='ignore')
if TARGET not in pivot.columns:
    raise ValueError(f"Alvo '{TARGET}' não está na planilha.")

features = [c for c in BASE_FEATS if c in pivot.columns]

dm = pd.DataFrame(index=pivot.index)
dm[TARGET] = pivot[TARGET]
for c in features:
    dm[c] = pivot[c]

dm['estacao'] = dm.index.to_series().apply(get_estacao)
dm = pd.get_dummies(dm, columns=['estacao'])
dm['mes'] = dm.index.month
dm['dia_do_ano'] = dm.index.dayofyear

# lags/rollings (nowcasting: só passado)
dm['DBO_lag1'] = dm[TARGET].shift(1)
dm['DBO_lag2'] = dm[TARGET].shift(2)
dm['DBO_lag3'] = dm[TARGET].shift(3)
dm['DBO_roll_mean3'] = dm[TARGET].rolling(3).mean().shift(1)
dm['DBO_roll_std3']  = dm[TARGET].rolling(3).std().shift(1)

dm = dm.dropna(subset=[TARGET,'DBO_lag1','DBO_lag2','DBO_lag3','DBO_roll_mean3','DBO_roll_std3'])

X = dm.drop(columns=[TARGET])
y = dm[TARGET]

# ==================== modelos base ====================
rf_pipe = Pipeline([
    ("imp", SimpleImputer(strategy="median")),
    ("rf", RandomForestRegressor(
        n_estimators=100, max_depth=24, max_features='sqrt',
        min_samples_leaf=3, min_samples_split=6, random_state=42
    ))
])
mlp_pipe = Pipeline([
    ("imp", SimpleImputer(strategy="median")),
    ("sc",  StandardScaler()),
    ("mlp", MLPRegressor(hidden_layer_sizes=(100,50), activation='tanh',
                         solver='lbfgs', alpha=0.00395, max_iter=5000, random_state=42))
])
BASES = [rf_pipe, mlp_pipe]

# ==================== stacking OOF (sem vazamento) ====================
def build_oof_blocks(n, min_train=12, n_blocks=5, min_block_size=2):
    if n <= min_train + 1:
        return [(np.arange(0, max(1,n-1)), np.arange(max(1,n-1), n))]
    remain = n - min_train
    nb = max(1, min(n_blocks, remain // max(1,min_block_size)))
    base = remain // nb; extra = remain % nb
    sizes = [base + (1 if i < extra else 0) for i in range(nb)]
    splits=[]; cur=min_train
    for s in sizes:
        splits.append((np.arange(0,cur), np.arange(cur, cur+s)))
        cur += s
    return splits

def train_meta_with_oof(Xtr, ytr, bases, meta_kind="ridge", ridge_alpha=1.0):
    n = len(Xtr)
    splits = build_oof_blocks(n, min_train=min(12, max(3, n//3)))
    oof = np.full((n, len(bases)), np.nan)
    for tr, te in splits:
        if len(tr)<1 or len(te)<1:
            continue
        for j, b in enumerate(bases):
            m = clone(b)
            m.fit(Xtr.iloc[tr], ytr.iloc[tr])
            oof[te, j] = m.predict(Xtr.iloc[te])
    valid = np.all(np.isfinite(oof), axis=1)
    if valid.sum() < 2:
        meta = None
    else:
        Xmeta = oof[valid]; ymeta = ytr.iloc[valid]
        meta = Ridge(alpha=ridge_alpha) if meta_kind=="ridge" else LinearRegression()
        meta.fit(Xmeta, ymeta)
    fitted = [clone(b).fit(Xtr, ytr) for b in bases]
    return meta, fitted

def stacked_predict(meta, fitted, X_):
    preds = [m.predict(X_) for m in fitted]
    M = np.column_stack(preds)
    return M.mean(axis=1) if meta is None else meta.predict(M)

# ==================== CV externa (TimeSeriesSplit) ====================
tscv = TimeSeriesSplit(n_splits=5)
fold_rows = []
folds_info = []
y_pred_all = pd.Series(index=y.index, dtype=float)

for f, (tr_idx, te_idx) in enumerate(tscv.split(X), start=1):
    Xtr, Xte = X.iloc[tr_idx], X.iloc[te_idx]
    ytr, yte = y.iloc[tr_idx], y.iloc[te_idx]
    meta, fitted = train_meta_with_oof(Xtr, ytr, BASES, meta_kind="ridge", ridge_alpha=1.0)
    yhat = stacked_predict(meta, fitted, Xte)
    y_pred_all.iloc[te_idx] = yhat

    mse = mean_squared_error(yte, yhat)
    rmse = np.sqrt(mse)
    mae = mean_absolute_error(yte, yhat)
    r2  = r2_score(yte, yhat)
    mp  = mape(yte, yhat)
    fold_rows.append({"fold": f, "MSE": mse, "RMSE": rmse, "MAE": mae, "R2": r2, "MAPE": mp})

    folds_info.append({
        "fold": f,
        "test_idx": te_idx,
        "y_pred": pd.Series(yhat, index=y.index[te_idx]),
        "y_true": y.iloc[te_idx]
    })

df_metrics_all = pd.DataFrame(fold_rows).set_index("fold")
print("\n=== MÉTRICAS – TODOS OS FOLDS ===")
print(df_metrics_all.round(3))

# -------- últimos N folds --------
recent_folds = df_metrics_all.index[-N_RECENT_FOLDS:].tolist()
df_recent = df_metrics_all.loc[recent_folds]

# (A) média por fold (diagnóstico)
mean_by_fold = df_recent.mean().to_dict()

# (B) métricas pooled (concatenadas) — usar no gráfico e no artigo
y_pred_recent = pd.concat([f["y_pred"] for f in folds_info if f["fold"] in recent_folds]).sort_index()
y_true_recent = pd.concat([f["y_true"] for f in folds_info if f["fold"] in recent_folds]).sort_index()

pooled = {
    "MSE":  mean_squared_error(y_true_recent, y_pred_recent),
    "RMSE": mean_squared_error(y_true_recent, y_pred_recent) ** 0.5,
    "MAE":  mean_absolute_error(y_true_recent, y_pred_recent),
    "R2":   r2_score(y_true_recent, y_pred_recent),
    "MAPE": mape(y_true_recent, y_pred_recent),
}

print(f"\n=== ÚLTIMOS {N_RECENT_FOLDS} FOLDS — AGREGAÇÃO ===")
print("Média por fold:", {k: round(v, 3) for k, v in mean_by_fold.items()})
print("POOLED (concatenado):", {k: round(v, 3) for k, v in pooled.items()})
print("Folds usados:", recent_folds)

# ----- salvar tabela com folds + MEAN_FOLD + POOLED -----
recent_table = df_recent.copy()
recent_table.loc["MEAN_FOLD"] = recent_table.mean()
recent_table.loc["POOLED"] = pooled
recent_table.to_csv(os.path.join(OUT_DIR, f"metricas_ultimos_{N_RECENT_FOLDS}_folds.csv"), sep=";")
try:
    recent_table.to_excel(os.path.join(OUT_DIR, f"metricas_ultimos_{N_RECENT_FOLDS}_folds.xlsx"))
except Exception:
    pass

# ==================== rolling mean/std do alvo (contexto de regime) ====================
roll_mean = y.rolling(ROLL_WINDOW).mean()
roll_std  = y.rolling(ROLL_WINDOW).std()

plt.figure(figsize=(14,5))
plt.plot(y.index, y.values, label="DBO (valor observado)", linewidth=1.2)
plt.plot(roll_mean.index, roll_mean.values, label=f"Média móvel (janela={ROLL_WINDOW})", linewidth=2.0)
plt.plot(roll_std.index, roll_std.values, label=f"Desvio-padrão móvel (janela={ROLL_WINDOW})", linestyle="--")
plt.title("DBO — Média e Desvio-padrão móveis")
plt.xlabel("Data"); plt.ylabel("mg/L")
ax = plt.gca()
ax.xaxis.set_major_locator(mdates.MonthLocator(interval=3))   # >>> rótulo a cada 3 meses
ax.xaxis.set_major_formatter(mdates.DateFormatter('%Y-%m'))   # formato YYYY-MM
plt.xticks(rotation=45)
plt.legend(); plt.tight_layout()
plt.savefig(os.path.join(OUT_DIR, "rolling_mean_std_pt.png"), bbox_inches="tight")
plt.show()

# ==================== Gráfico principal (PT) — métricas pooled ====================
start_recent = y_pred_recent.index.min()
end_recent   = y_pred_recent.index.max()

plt.figure(figsize=(16,6))
plt.plot(y_true_recent.index, y_true_recent.values, label='Real BDO (t)', marker='o', linestyle='-')
plt.plot(y_pred_recent.index, y_pred_recent.values, label='Prediction', marker='x', linestyle='--')

for fobj in folds_info:
    if fobj['fold'] in recent_folds:
        s = y.index[fobj['test_idx'][0]]
        e = y.index[fobj['test_idx'][-1]]
        plt.axvspan(s, e, color='gray', alpha=0.10)

titulo_pt = "DBO — Real vs. Previsto"
plt.title(titulo_pt)
plt.xlabel('Data'); plt.ylabel('DBO (mg/L)')
ax = plt.gca()
ax.xaxis.set_major_locator(mdates.MonthLocator(interval=3))   # >>> trimestral
ax.xaxis.set_major_formatter(mdates.DateFormatter('%Y-%m'))
plt.xticks(rotation=45)
plt.grid(True)

txt_pt = '\n'.join((
    f'Agregado (pooled) – últimos {N_RECENT_FOLDS} folds',
    f"MSE: {pooled['MSE']:.2f}",
    f"RMSE: {pooled['RMSE']:.2f}",
    f"MAE: {pooled['MAE']:.2f}",
    f"R2: {pooled['R2']:.3f}",
    f"MAPE: {pooled['MAPE']:.2f}%"
))
plt.gca().text(0.98, 0.98, txt_pt, transform=plt.gca().transAxes, fontsize=10,
               va='top', ha='right', bbox=dict(boxstyle='round,pad=0.5', facecolor='white', alpha=0.85))

plt.xlim([start_recent, end_recent])
plt.legend(); plt.tight_layout()
plt.savefig(os.path.join(OUT_DIR, f"nowcasting_ultimos_{N_RECENT_FOLDS}_folds_pt.png"), bbox_inches="tight")
plt.show()

# ==================== Gráfico principal (EN) — métricas pooled ====================
plt.figure(figsize=(16,6))
plt.plot(y_true_recent.index, y_true_recent.values, label='Observed', marker='o', linestyle='-')
plt.plot(y_pred_recent.index, y_pred_recent.values, label=f'Prediction (Last {N_RECENT_FOLDS} folds)', marker='x', linestyle='--')

for fobj in folds_info:
    if fobj['fold'] in recent_folds:
        s = y.index[fobj['test_idx'][0]]
        e = y.index[fobj['test_idx'][-1]]
        plt.axvspan(s, e, color='gray', alpha=0.10)

titulo_en = "BOD — Observed vs. Predicted"
plt.title(titulo_en)
plt.xlabel('Date'); plt.ylabel('BOD (mg/L)')
ax = plt.gca()
ax.xaxis.set_major_locator(mdates.MonthLocator(interval=3))   # >>> trimestral
ax.xaxis.set_major_formatter(mdates.DateFormatter('%Y-%m'))
plt.xticks(rotation=45)
plt.grid(True)

txt_en = '\n'.join((
    f'Pooled – last {N_RECENT_FOLDS} folds',
    f"MSE: {pooled['MSE']:.2f}",
    f"RMSE: {pooled['RMSE']:.2f}",
    f"MAE: {pooled['MAE']:.2f}",
    f"R2: {pooled['R2']:.3f}",
    f"MAPE: {pooled['MAPE']:.2f}%"
))
plt.gca().text(0.98, 0.98, txt_en, transform=plt.gca().transAxes, fontsize=10,
               va='top', ha='right', bbox=dict(boxstyle='round,pad=0.5', facecolor='white', alpha=0.85))

plt.xlim([start_recent, end_recent])
plt.legend(); plt.tight_layout()
plt.savefig(os.path.join(OUT_DIR, f"nowcasting_last_{N_RECENT_FOLDS}_folds_en.png"), bbox_inches="tight")
plt.show()
